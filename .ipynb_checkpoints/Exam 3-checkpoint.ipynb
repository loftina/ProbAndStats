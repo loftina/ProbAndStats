{
 "cells": [
  {
   "cell_type": "markdown",
   "metadata": {},
   "source": [
    "# Exam 3\n",
    "## 1.\n",
    "### (a)"
   ]
  },
  {
   "cell_type": "code",
   "execution_count": 1,
   "metadata": {},
   "outputs": [
    {
     "data": {
      "text/html": [
       "0.202328380963644"
      ],
      "text/latex": [
       "0.202328380963644"
      ],
      "text/markdown": [
       "0.202328380963644"
      ],
      "text/plain": [
       "[1] 0.2023284"
      ]
     },
     "metadata": {},
     "output_type": "display_data"
    }
   ],
   "source": [
    "pnorm(q = 8.5, mean = 8.3, sd = .24, lower.tail = F)"
   ]
  },
  {
   "cell_type": "markdown",
   "metadata": {},
   "source": [
    "### (b)"
   ]
  },
  {
   "cell_type": "code",
   "execution_count": 3,
   "metadata": {},
   "outputs": [
    {
     "data": {
      "text/html": [
       "0.585231346769548"
      ],
      "text/latex": [
       "0.585231346769548"
      ],
      "text/markdown": [
       "0.585231346769548"
      ],
      "text/plain": [
       "[1] 0.5852313"
      ]
     },
     "metadata": {},
     "output_type": "display_data"
    }
   ],
   "source": [
    "pnorm(q = 8.55, mean = 8.3, sd = .24) - pnorm(q = 8.15, mean = 8.3, sd = .24)"
   ]
  },
  {
   "cell_type": "markdown",
   "metadata": {},
   "source": [
    "### (c)"
   ]
  },
  {
   "cell_type": "code",
   "execution_count": 4,
   "metadata": {},
   "outputs": [
    {
     "data": {
      "text/html": [
       "0.950015094460879"
      ],
      "text/latex": [
       "0.950015094460879"
      ],
      "text/markdown": [
       "0.950015094460879"
      ],
      "text/plain": [
       "[1] 0.9500151"
      ]
     },
     "metadata": {},
     "output_type": "display_data"
    }
   ],
   "source": [
    "pnorm(q = 8.6948, mean = 8.3, sd = .24)"
   ]
  },
  {
   "cell_type": "code",
   "execution_count": null,
   "metadata": {
    "collapsed": true
   },
   "outputs": [],
   "source": []
  }
 ],
 "metadata": {
  "kernelspec": {
   "display_name": "R",
   "language": "R",
   "name": "ir"
  },
  "language_info": {
   "codemirror_mode": "r",
   "file_extension": ".r",
   "mimetype": "text/x-r-source",
   "name": "R",
   "pygments_lexer": "r",
   "version": "3.3.2"
  }
 },
 "nbformat": 4,
 "nbformat_minor": 2
}
