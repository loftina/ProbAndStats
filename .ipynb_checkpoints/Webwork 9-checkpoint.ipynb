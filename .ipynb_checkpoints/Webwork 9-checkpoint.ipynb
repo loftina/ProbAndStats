{
 "cells": [
  {
   "cell_type": "markdown",
   "metadata": {},
   "source": [
    "# 3\n",
    "Compute the following probabilities for the standard normal distribution Z.\n",
    "\n",
    "## A. P(0 < Z < 1.85 )"
   ]
  },
  {
   "cell_type": "code",
   "execution_count": 1,
   "metadata": {},
   "outputs": [
    {
     "data": {
      "text/html": [
       "0.467843225204386"
      ],
      "text/latex": [
       "0.467843225204386"
      ],
      "text/markdown": [
       "0.467843225204386"
      ],
      "text/plain": [
       "[1] 0.4678432"
      ]
     },
     "metadata": {},
     "output_type": "display_data"
    }
   ],
   "source": [
    "pnorm(1.85)-pnorm(0)"
   ]
  },
  {
   "cell_type": "markdown",
   "metadata": {},
   "source": [
    "## B. P(-1 < Z < .1 )"
   ]
  },
  {
   "cell_type": "code",
   "execution_count": 2,
   "metadata": {},
   "outputs": [
    {
     "data": {
      "text/html": [
       "0.381172583345572"
      ],
      "text/latex": [
       "0.381172583345572"
      ],
      "text/markdown": [
       "0.381172583345572"
      ],
      "text/plain": [
       "[1] 0.3811726"
      ]
     },
     "metadata": {},
     "output_type": "display_data"
    }
   ],
   "source": [
    "pnorm(.1)-pnorm(-1)"
   ]
  },
  {
   "cell_type": "markdown",
   "metadata": {},
   "source": [
    "## C. P(Z > -1.9 )"
   ]
  },
  {
   "cell_type": "markdown",
   "metadata": {},
   "source": [
    "# 6"
   ]
  },
  {
   "cell_type": "code",
   "execution_count": 6,
   "metadata": {},
   "outputs": [
    {
     "data": {
      "text/html": [
       "0.254902906325691"
      ],
      "text/latex": [
       "0.254902906325691"
      ],
      "text/markdown": [
       "0.254902906325691"
      ],
      "text/plain": [
       "[1] 0.2549029"
      ]
     },
     "metadata": {},
     "output_type": "display_data"
    }
   ],
   "source": [
    "pnorm(.69) - pnorm(0)"
   ]
  },
  {
   "cell_type": "code",
   "execution_count": 7,
   "metadata": {},
   "outputs": [
    {
     "data": {
      "text/html": [
       "0.477784405570569"
      ],
      "text/latex": [
       "0.477784405570569"
      ],
      "text/markdown": [
       "0.477784405570569"
      ],
      "text/plain": [
       "[1] 0.4777844"
      ]
     },
     "metadata": {},
     "output_type": "display_data"
    }
   ],
   "source": [
    "pnorm(0) - pnorm(-2.01)"
   ]
  },
  {
   "cell_type": "code",
   "execution_count": 8,
   "metadata": {},
   "outputs": [
    {
     "data": {
      "text/html": [
       "0.538763100251628"
      ],
      "text/latex": [
       "0.538763100251628"
      ],
      "text/markdown": [
       "0.538763100251628"
      ],
      "text/plain": [
       "[1] 0.5387631"
      ]
     },
     "metadata": {},
     "output_type": "display_data"
    }
   ],
   "source": [
    "pnorm(.49) - pnorm(-1.04)"
   ]
  },
  {
   "cell_type": "code",
   "execution_count": 4,
   "metadata": {},
   "outputs": [
    {
     "data": {
      "text/html": [
       "0.971283440183998"
      ],
      "text/latex": [
       "0.971283440183998"
      ],
      "text/markdown": [
       "0.971283440183998"
      ],
      "text/plain": [
       "[1] 0.9712834"
      ]
     },
     "metadata": {},
     "output_type": "display_data"
    }
   ],
   "source": [
    "1- pnorm(-1.9)"
   ]
  },
  {
   "cell_type": "code",
   "execution_count": 5,
   "metadata": {},
   "outputs": [
    {
     "data": {
      "text/html": [
       "0.507978313716902"
      ],
      "text/latex": [
       "0.507978313716902"
      ],
      "text/markdown": [
       "0.507978313716902"
      ],
      "text/plain": [
       "[1] 0.5079783"
      ]
     },
     "metadata": {},
     "output_type": "display_data"
    }
   ],
   "source": [
    "pnorm(-.02, lower.tail = F)"
   ]
  },
  {
   "cell_type": "markdown",
   "metadata": {},
   "source": [
    "# 9"
   ]
  },
  {
   "cell_type": "code",
   "execution_count": 10,
   "metadata": {},
   "outputs": [
    {
     "data": {
      "text/html": [
       "0.852337560393598"
      ],
      "text/latex": [
       "0.852337560393598"
      ],
      "text/markdown": [
       "0.852337560393598"
      ],
      "text/plain": [
       "[1] 0.8523376"
      ]
     },
     "metadata": {},
     "output_type": "display_data"
    }
   ],
   "source": [
    "1 - pnorm(61, 70, 8.6)"
   ]
  },
  {
   "cell_type": "code",
   "execution_count": 11,
   "metadata": {},
   "outputs": [
    {
     "data": {
      "text/html": [
       "0.757309585103178"
      ],
      "text/latex": [
       "0.757309585103178"
      ],
      "text/markdown": [
       "0.757309585103178"
      ],
      "text/plain": [
       "[1] 0.7573096"
      ]
     },
     "metadata": {},
     "output_type": "display_data"
    }
   ],
   "source": [
    "pnorm(76, 70, 8.6)"
   ]
  },
  {
   "cell_type": "markdown",
   "metadata": {},
   "source": [
    "# 11"
   ]
  },
  {
   "cell_type": "code",
   "execution_count": 12,
   "metadata": {},
   "outputs": [
    {
     "data": {
      "text/html": [
       "0.00489253660223498"
      ],
      "text/latex": [
       "0.00489253660223498"
      ],
      "text/markdown": [
       "0.00489253660223498"
      ],
      "text/plain": [
       "[1] 0.004892537"
      ]
     },
     "metadata": {},
     "output_type": "display_data"
    }
   ],
   "source": [
    "pnorm(1105, 950, 60, lower.tail = F)"
   ]
  },
  {
   "cell_type": "markdown",
   "metadata": {},
   "source": [
    "# 12"
   ]
  },
  {
   "cell_type": "code",
   "execution_count": 13,
   "metadata": {},
   "outputs": [
    {
     "data": {
      "text/html": [
       "1"
      ],
      "text/latex": [
       "1"
      ],
      "text/markdown": [
       "1"
      ],
      "text/plain": [
       "[1] 1"
      ]
     },
     "metadata": {},
     "output_type": "display_data"
    }
   ],
   "source": [
    "pexp(q = 5, rate = 8)"
   ]
  },
  {
   "cell_type": "markdown",
   "metadata": {},
   "source": [
    "# 13"
   ]
  },
  {
   "cell_type": "code",
   "execution_count": 17,
   "metadata": {},
   "outputs": [
    {
     "data": {
      "text/html": [
       "1"
      ],
      "text/latex": [
       "1"
      ],
      "text/markdown": [
       "1"
      ],
      "text/plain": [
       "[1] 1"
      ]
     },
     "metadata": {},
     "output_type": "display_data"
    }
   ],
   "source": [
    "pexp(q = 10, rate = 4)"
   ]
  },
  {
   "cell_type": "markdown",
   "metadata": {},
   "source": [
    "# 14"
   ]
  },
  {
   "cell_type": "code",
   "execution_count": 18,
   "metadata": {},
   "outputs": [
    {
     "data": {
      "text/html": [
       "0.733446956224289"
      ],
      "text/latex": [
       "0.733446956224289"
      ],
      "text/markdown": [
       "0.733446956224289"
      ],
      "text/plain": [
       "[1] 0.733447"
      ]
     },
     "metadata": {},
     "output_type": "display_data"
    }
   ],
   "source": [
    "pexp(q = 1, .31, lower.tail = F)"
   ]
  },
  {
   "cell_type": "code",
   "execution_count": 19,
   "metadata": {},
   "outputs": [
    {
     "data": {
      "text/html": [
       "0.936973761316247"
      ],
      "text/latex": [
       "0.936973761316247"
      ],
      "text/markdown": [
       "0.936973761316247"
      ],
      "text/plain": [
       "[1] 0.9369738"
      ]
     },
     "metadata": {},
     "output_type": "display_data"
    }
   ],
   "source": [
    "pexp(q = .21, .31, lower.tail = F)"
   ]
  },
  {
   "cell_type": "code",
   "execution_count": 20,
   "metadata": {},
   "outputs": [
    {
     "data": {
      "text/html": [
       "0.091626825790732"
      ],
      "text/latex": [
       "0.091626825790732"
      ],
      "text/markdown": [
       "0.091626825790732"
      ],
      "text/plain": [
       "[1] 0.09162683"
      ]
     },
     "metadata": {},
     "output_type": "display_data"
    }
   ],
   "source": [
    "pexp(q = .31, .31, lower.tail = T)"
   ]
  },
  {
   "cell_type": "code",
   "execution_count": 21,
   "metadata": {},
   "outputs": [
    {
     "data": {
      "text/html": [
       "0.357892629803934"
      ],
      "text/latex": [
       "0.357892629803934"
      ],
      "text/markdown": [
       "0.357892629803934"
      ],
      "text/plain": [
       "[1] 0.3578926"
      ]
     },
     "metadata": {},
     "output_type": "display_data"
    }
   ],
   "source": [
    "pexp(q = 1.73, .31) - pexp(q = .19, .31)"
   ]
  }
 ],
 "metadata": {
  "kernelspec": {
   "display_name": "R",
   "language": "R",
   "name": "ir"
  },
  "language_info": {
   "codemirror_mode": "r",
   "file_extension": ".r",
   "mimetype": "text/x-r-source",
   "name": "R",
   "pygments_lexer": "r",
   "version": "3.3.2"
  }
 },
 "nbformat": 4,
 "nbformat_minor": 2
}
