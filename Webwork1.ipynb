{
 "cells": [
  {
   "cell_type": "code",
   "execution_count": 19,
   "metadata": {},
   "outputs": [
    {
     "data": {
      "text/html": [
       "<ol class=list-inline>\n",
       "\t<li>20</li>\n",
       "\t<li>18</li>\n",
       "\t<li>20</li>\n",
       "\t<li>15</li>\n",
       "\t<li>5</li>\n",
       "\t<li>999</li>\n",
       "\t<li>20</li>\n",
       "\t<li>23</li>\n",
       "</ol>\n"
      ],
      "text/latex": [
       "\\begin{enumerate*}\n",
       "\\item 20\n",
       "\\item 18\n",
       "\\item 20\n",
       "\\item 15\n",
       "\\item 5\n",
       "\\item 999\n",
       "\\item 20\n",
       "\\item 23\n",
       "\\end{enumerate*}\n"
      ],
      "text/markdown": [
       "1. 20\n",
       "2. 18\n",
       "3. 20\n",
       "4. 15\n",
       "5. 5\n",
       "6. 999\n",
       "7. 20\n",
       "8. 23\n",
       "\n",
       "\n"
      ],
      "text/plain": [
       "[1]  20  18  20  15   5 999  20  23"
      ]
     },
     "metadata": {},
     "output_type": "display_data"
    }
   ],
   "source": [
    "X <- c(20, 18, 20, 15, 5, 999, 20, 23)\n",
    "X"
   ]
  },
  {
   "cell_type": "code",
   "execution_count": 20,
   "metadata": {},
   "outputs": [
    {
     "data": {
      "text/html": [
       "1120"
      ],
      "text/latex": [
       "1120"
      ],
      "text/markdown": [
       "1120"
      ],
      "text/plain": [
       "[1] 1120"
      ]
     },
     "metadata": {},
     "output_type": "display_data"
    }
   ],
   "source": [
    "sum(X)"
   ]
  },
  {
   "cell_type": "code",
   "execution_count": 21,
   "metadata": {},
   "outputs": [
    {
     "data": {
      "text/html": [
       "8"
      ],
      "text/latex": [
       "8"
      ],
      "text/markdown": [
       "8"
      ],
      "text/plain": [
       "[1] 8"
      ]
     },
     "metadata": {},
     "output_type": "display_data"
    }
   ],
   "source": [
    "length(X)"
   ]
  },
  {
   "cell_type": "code",
   "execution_count": 22,
   "metadata": {},
   "outputs": [
    {
     "data": {
      "text/html": [
       "140"
      ],
      "text/latex": [
       "140"
      ],
      "text/markdown": [
       "140"
      ],
      "text/plain": [
       "[1] 140"
      ]
     },
     "metadata": {},
     "output_type": "display_data"
    }
   ],
   "source": [
    "mean(X)"
   ]
  },
  {
   "cell_type": "code",
   "execution_count": 23,
   "metadata": {},
   "outputs": [
    {
     "data": {
      "text/html": [
       "120500.571428571"
      ],
      "text/latex": [
       "120500.571428571"
      ],
      "text/markdown": [
       "120500.571428571"
      ],
      "text/plain": [
       "[1] 120500.6"
      ]
     },
     "metadata": {},
     "output_type": "display_data"
    }
   ],
   "source": [
    "var(X)"
   ]
  },
  {
   "cell_type": "code",
   "execution_count": 24,
   "metadata": {},
   "outputs": [
    {
     "data": {
      "text/html": [
       "347.131922226365"
      ],
      "text/latex": [
       "347.131922226365"
      ],
      "text/markdown": [
       "347.131922226365"
      ],
      "text/plain": [
       "[1] 347.1319"
      ]
     },
     "metadata": {},
     "output_type": "display_data"
    }
   ],
   "source": [
    "sd(X)"
   ]
  },
  {
   "cell_type": "code",
   "execution_count": 25,
   "metadata": {},
   "outputs": [
    {
     "data": {
      "text/html": [
       "<ol class=list-inline>\n",
       "\t<li>2.8</li>\n",
       "\t<li>2.4</li>\n",
       "\t<li>2.7</li>\n",
       "\t<li>3.8</li>\n",
       "\t<li>1.1</li>\n",
       "\t<li>4.2</li>\n",
       "\t<li>2.6</li>\n",
       "\t<li>2.5</li>\n",
       "</ol>\n"
      ],
      "text/latex": [
       "\\begin{enumerate*}\n",
       "\\item 2.8\n",
       "\\item 2.4\n",
       "\\item 2.7\n",
       "\\item 3.8\n",
       "\\item 1.1\n",
       "\\item 4.2\n",
       "\\item 2.6\n",
       "\\item 2.5\n",
       "\\end{enumerate*}\n"
      ],
      "text/markdown": [
       "1. 2.8\n",
       "2. 2.4\n",
       "3. 2.7\n",
       "4. 3.8\n",
       "5. 1.1\n",
       "6. 4.2\n",
       "7. 2.6\n",
       "8. 2.5\n",
       "\n",
       "\n"
      ],
      "text/plain": [
       "[1] 2.8 2.4 2.7 3.8 1.1 4.2 2.6 2.5"
      ]
     },
     "metadata": {},
     "output_type": "display_data"
    }
   ],
   "source": [
    "X2 <- c(2.8, 2.4, 2.7, 3.8, 1.1, 4.2, 2.6, 2.5)\n",
    "X2"
   ]
  },
  {
   "cell_type": "code",
   "execution_count": 27,
   "metadata": {},
   "outputs": [
    {
     "data": {
      "text/html": [
       "20"
      ],
      "text/latex": [
       "20"
      ],
      "text/markdown": [
       "20"
      ],
      "text/plain": [
       "[1] 20"
      ]
     },
     "metadata": {},
     "output_type": "display_data"
    }
   ],
   "source": [
    "median(X)"
   ]
  },
  {
   "cell_type": "code",
   "execution_count": 28,
   "metadata": {},
   "outputs": [
    {
     "data": {
      "text/html": [
       "<ol class=list-inline>\n",
       "\t<li>5</li>\n",
       "\t<li>15</li>\n",
       "\t<li>18</li>\n",
       "\t<li>20</li>\n",
       "\t<li>20</li>\n",
       "\t<li>20</li>\n",
       "\t<li>23</li>\n",
       "\t<li>999</li>\n",
       "</ol>\n"
      ],
      "text/latex": [
       "\\begin{enumerate*}\n",
       "\\item 5\n",
       "\\item 15\n",
       "\\item 18\n",
       "\\item 20\n",
       "\\item 20\n",
       "\\item 20\n",
       "\\item 23\n",
       "\\item 999\n",
       "\\end{enumerate*}\n"
      ],
      "text/markdown": [
       "1. 5\n",
       "2. 15\n",
       "3. 18\n",
       "4. 20\n",
       "5. 20\n",
       "6. 20\n",
       "7. 23\n",
       "8. 999\n",
       "\n",
       "\n"
      ],
      "text/plain": [
       "[1]   5  15  18  20  20  20  23 999"
      ]
     },
     "metadata": {},
     "output_type": "display_data"
    }
   ],
   "source": [
    "sort(X)"
   ]
  },
  {
   "cell_type": "code",
   "execution_count": 31,
   "metadata": {},
   "outputs": [
    {
     "data": {
      "text/html": [
       "0.220588235294118"
      ],
      "text/latex": [
       "0.220588235294118"
      ],
      "text/markdown": [
       "0.220588235294118"
      ],
      "text/plain": [
       "[1] 0.2205882"
      ]
     },
     "metadata": {},
     "output_type": "display_data"
    }
   ],
   "source": [
    "30/136"
   ]
  },
  {
   "cell_type": "code",
   "execution_count": null,
   "metadata": {
    "collapsed": true
   },
   "outputs": [],
   "source": []
  }
 ],
 "metadata": {
  "kernelspec": {
   "display_name": "R",
   "language": "R",
   "name": "ir"
  },
  "language_info": {
   "codemirror_mode": "r",
   "file_extension": ".r",
   "mimetype": "text/x-r-source",
   "name": "R",
   "pygments_lexer": "r",
   "version": "3.3.2"
  }
 },
 "nbformat": 4,
 "nbformat_minor": 2
}
