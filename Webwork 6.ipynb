{
 "cells": [
  {
   "cell_type": "code",
   "execution_count": 1,
   "metadata": {},
   "outputs": [
    {
     "data": {
      "text/html": [
       "0.00243366799938728"
      ],
      "text/latex": [
       "0.00243366799938728"
      ],
      "text/markdown": [
       "0.00243366799938728"
      ],
      "text/plain": [
       "[1] 0.002433668"
      ]
     },
     "metadata": {},
     "output_type": "display_data"
    }
   ],
   "source": [
    "dbinom(13, 19, .35)+dbinom(16, 19, .35)"
   ]
  },
  {
   "cell_type": "code",
   "execution_count": 3,
   "metadata": {},
   "outputs": [
    {
     "data": {
      "text/html": [
       "0.999884900592089"
      ],
      "text/latex": [
       "0.999884900592089"
      ],
      "text/markdown": [
       "0.999884900592089"
      ],
      "text/plain": [
       "[1] 0.9998849"
      ]
     },
     "metadata": {},
     "output_type": "display_data"
    }
   ],
   "source": [
    "sum(dbinom(0:14, 19, .35))"
   ]
  },
  {
   "cell_type": "code",
   "execution_count": 6,
   "metadata": {},
   "outputs": [
    {
     "data": {
      "text/html": [
       "0.000673601015102962"
      ],
      "text/latex": [
       "0.000673601015102962"
      ],
      "text/markdown": [
       "0.000673601015102962"
      ],
      "text/plain": [
       "[1] 0.000673601"
      ]
     },
     "metadata": {},
     "output_type": "display_data"
    }
   ],
   "source": [
    "sum(dbinom(14:19, 19, .35))"
   ]
  },
  {
   "cell_type": "code",
   "execution_count": 7,
   "metadata": {},
   "outputs": [
    {
     "data": {
      "text/html": [
       "0.999985144470303"
      ],
      "text/latex": [
       "0.999985144470303"
      ],
      "text/markdown": [
       "0.999985144470303"
      ],
      "text/plain": [
       "[1] 0.9999851"
      ]
     },
     "metadata": {},
     "output_type": "display_data"
    }
   ],
   "source": [
    "sum(dbinom(0:15, 19, .35))"
   ]
  },
  {
   "cell_type": "code",
   "execution_count": 8,
   "metadata": {},
   "outputs": [
    {
     "data": {
      "text/html": [
       "0.000115099407910771"
      ],
      "text/latex": [
       "0.000115099407910771"
      ],
      "text/markdown": [
       "0.000115099407910771"
      ],
      "text/plain": [
       "[1] 0.0001150994"
      ]
     },
     "metadata": {},
     "output_type": "display_data"
    }
   ],
   "source": [
    "sum(dbinom(15:19, 19, .35))"
   ]
  },
  {
   "cell_type": "code",
   "execution_count": 9,
   "metadata": {},
   "outputs": [
    {
     "data": {
      "text/html": [
       "0.102827732771601"
      ],
      "text/latex": [
       "0.102827732771601"
      ],
      "text/markdown": [
       "0.102827732771601"
      ],
      "text/plain": [
       "[1] 0.1028277"
      ]
     },
     "metadata": {},
     "output_type": "display_data"
    }
   ],
   "source": [
    "sum(dbinom(73:285, 285, .223))"
   ]
  },
  {
   "cell_type": "code",
   "execution_count": 10,
   "metadata": {},
   "outputs": [
    {
     "data": {
      "text/html": [
       "0.1786706395136"
      ],
      "text/latex": [
       "0.1786706395136"
      ],
      "text/markdown": [
       "0.1786706395136"
      ],
      "text/plain": [
       "[1] 0.1786706"
      ]
     },
     "metadata": {},
     "output_type": "display_data"
    }
   ],
   "source": [
    "dbinom(12, 13, .8)"
   ]
  },
  {
   "cell_type": "code",
   "execution_count": 11,
   "metadata": {},
   "outputs": [
    {
     "data": {
      "text/html": [
       "0.747324309504"
      ],
      "text/latex": [
       "0.747324309504"
      ],
      "text/markdown": [
       "0.747324309504"
      ],
      "text/plain": [
       "[1] 0.7473243"
      ]
     },
     "metadata": {},
     "output_type": "display_data"
    }
   ],
   "source": [
    "sum(dbinom(10:13, 13, .8))"
   ]
  },
  {
   "cell_type": "code",
   "execution_count": 1,
   "metadata": {},
   "outputs": [
    {
     "data": {
      "text/html": [
       "0.184958973461701"
      ],
      "text/latex": [
       "0.184958973461701"
      ],
      "text/markdown": [
       "0.184958973461701"
      ],
      "text/plain": [
       "[1] 0.184959"
      ]
     },
     "metadata": {},
     "output_type": "display_data"
    }
   ],
   "source": [
    "dpois(2, 3.5)"
   ]
  },
  {
   "cell_type": "code",
   "execution_count": 7,
   "metadata": {},
   "outputs": [
    {
     "data": {
      "text/html": [
       "0.285056500316631"
      ],
      "text/latex": [
       "0.285056500316631"
      ],
      "text/markdown": [
       "0.285056500316631"
      ],
      "text/plain": [
       "[1] 0.2850565"
      ]
     },
     "metadata": {},
     "output_type": "display_data"
    }
   ],
   "source": [
    "sum(dpois(0:4, 6))"
   ]
  },
  {
   "cell_type": "code",
   "execution_count": 12,
   "metadata": {},
   "outputs": [
    {
     "data": {
      "text/html": [
       "0.743979760453717"
      ],
      "text/latex": [
       "0.743979760453717"
      ],
      "text/markdown": [
       "0.743979760453717"
      ],
      "text/plain": [
       "[1] 0.7439798"
      ]
     },
     "metadata": {},
     "output_type": "display_data"
    }
   ],
   "source": [
    "sum(dpois(0:7, 6))"
   ]
  },
  {
   "cell_type": "code",
   "execution_count": 16,
   "metadata": {},
   "outputs": [
    {
     "data": {
      "text/html": [
       "0.0188322170653951"
      ],
      "text/latex": [
       "0.0188322170653951"
      ],
      "text/markdown": [
       "0.0188322170653951"
      ],
      "text/plain": [
       "[1] 0.01883222"
      ]
     },
     "metadata": {},
     "output_type": "display_data"
    }
   ],
   "source": [
    "dpois(7, 2.9)"
   ]
  },
  {
   "cell_type": "code",
   "execution_count": 15,
   "metadata": {},
   "outputs": [
    {
     "data": {
      "text/html": [
       "0.0185759362221407"
      ],
      "text/latex": [
       "0.0185759362221407"
      ],
      "text/markdown": [
       "0.0185759362221407"
      ],
      "text/plain": [
       "[1] 0.01857594"
      ]
     },
     "metadata": {},
     "output_type": "display_data"
    }
   ],
   "source": [
    "sum(dpois(5:100, 1.5))"
   ]
  },
  {
   "cell_type": "code",
   "execution_count": 17,
   "metadata": {},
   "outputs": [
    {
     "data": {
      "text/html": [
       "0.0724963088577997"
      ],
      "text/latex": [
       "0.0724963088577997"
      ],
      "text/markdown": [
       "0.0724963088577997"
      ],
      "text/plain": [
       "[1] 0.07249631"
      ]
     },
     "metadata": {},
     "output_type": "display_data"
    }
   ],
   "source": [
    "sum(dpois(5:100, 2.2))"
   ]
  },
  {
   "cell_type": "code",
   "execution_count": 22,
   "metadata": {},
   "outputs": [
    {
     "data": {
      "text/html": [
       "0.843645175083443"
      ],
      "text/latex": [
       "0.843645175083443"
      ],
      "text/markdown": [
       "0.843645175083443"
      ],
      "text/plain": [
       "[1] 0.8436452"
      ]
     },
     "metadata": {},
     "output_type": "display_data"
    }
   ],
   "source": [
    "sum(dpois(0:6, 4.4))"
   ]
  },
  {
   "cell_type": "code",
   "execution_count": 23,
   "metadata": {},
   "outputs": [
    {
     "data": {
      "text/html": [
       "0.0410945579912061"
      ],
      "text/latex": [
       "0.0410945579912061"
      ],
      "text/markdown": [
       "0.0410945579912061"
      ],
      "text/plain": [
       "[1] 0.04109456"
      ]
     },
     "metadata": {},
     "output_type": "display_data"
    }
   ],
   "source": [
    "sum(dpois(6, 2.2*5))"
   ]
  },
  {
   "cell_type": "code",
   "execution_count": 30,
   "metadata": {},
   "outputs": [
    {
     "data": {
      "text/html": [
       "0.270498578603859"
      ],
      "text/latex": [
       "0.270498578603859"
      ],
      "text/markdown": [
       "0.270498578603859"
      ],
      "text/plain": [
       "[1] 0.2704986"
      ]
     },
     "metadata": {},
     "output_type": "display_data"
    }
   ],
   "source": [
    "sum(dpois(2, .39*5))"
   ]
  },
  {
   "cell_type": "code",
   "execution_count": 25,
   "metadata": {},
   "outputs": [
    {
     "data": {
      "text/html": [
       "0.337451040426208"
      ],
      "text/latex": [
       "0.337451040426208"
      ],
      "text/markdown": [
       "0.337451040426208"
      ],
      "text/plain": [
       "[1] 0.337451"
      ]
     },
     "metadata": {},
     "output_type": "display_data"
    }
   ],
   "source": [
    "sum(dpois(11:100, .39*24))"
   ]
  },
  {
   "cell_type": "code",
   "execution_count": 27,
   "metadata": {},
   "outputs": [
    {
     "data": {
      "text/html": [
       "0.253863016586249"
      ],
      "text/latex": [
       "0.253863016586249"
      ],
      "text/markdown": [
       "0.253863016586249"
      ],
      "text/plain": [
       "[1] 0.253863"
      ]
     },
     "metadata": {},
     "output_type": "display_data"
    }
   ],
   "source": [
    "sum(dpois(2, .51*5))"
   ]
  },
  {
   "cell_type": "code",
   "execution_count": 28,
   "metadata": {},
   "outputs": [
    {
     "data": {
      "text/html": [
       "0.677418839403471"
      ],
      "text/latex": [
       "0.677418839403471"
      ],
      "text/markdown": [
       "0.677418839403471"
      ],
      "text/plain": [
       "[1] 0.6774188"
      ]
     },
     "metadata": {},
     "output_type": "display_data"
    }
   ],
   "source": [
    "sum(dpois(11:100, .51*24))"
   ]
  },
  {
   "cell_type": "code",
   "execution_count": 33,
   "metadata": {},
   "outputs": [
    {
     "data": {
      "text/html": [
       "32.1006377237834"
      ],
      "text/latex": [
       "32.1006377237834"
      ],
      "text/markdown": [
       "32.1006377237834"
      ],
      "text/plain": [
       "[1] 32.10064"
      ]
     },
     "metadata": {},
     "output_type": "display_data"
    }
   ],
   "source": [
    "sum(dpois(1:100, .03))*600+sum(dpois(1:100, .04))*100+sum(dpois(1:100, .15))*75"
   ]
  },
  {
   "cell_type": "code",
   "execution_count": 35,
   "metadata": {},
   "outputs": [
    {
     "data": {
      "text/html": [
       "0.224124908447265"
      ],
      "text/latex": [
       "0.224124908447265"
      ],
      "text/markdown": [
       "0.224124908447265"
      ],
      "text/plain": [
       "[1] 0.2241249"
      ]
     },
     "metadata": {},
     "output_type": "display_data"
    }
   ],
   "source": [
    "sum(dbinom(4:10, 10, .25))"
   ]
  },
  {
   "cell_type": "code",
   "execution_count": 36,
   "metadata": {},
   "outputs": [
    {
     "data": {
      "text/html": [
       "0.345238101"
      ],
      "text/latex": [
       "0.345238101"
      ],
      "text/markdown": [
       "0.345238101"
      ],
      "text/plain": [
       "[1] 0.3452381"
      ]
     },
     "metadata": {},
     "output_type": "display_data"
    }
   ],
   "source": [
    "sum(dbinom(2, 5, .39))"
   ]
  },
  {
   "cell_type": "code",
   "execution_count": 37,
   "metadata": {},
   "outputs": [
    {
     "data": {
      "text/html": [
       "0.312838658304667"
      ],
      "text/latex": [
       "0.312838658304667"
      ],
      "text/markdown": [
       "0.312838658304667"
      ],
      "text/plain": [
       "[1] 0.3128387"
      ]
     },
     "metadata": {},
     "output_type": "display_data"
    }
   ],
   "source": [
    "sum(dbinom(11:24, 24, .39))"
   ]
  },
  {
   "cell_type": "code",
   "execution_count": 38,
   "metadata": {},
   "outputs": [
    {
     "data": {
      "text/html": [
       "0.306005049"
      ],
      "text/latex": [
       "0.306005049"
      ],
      "text/markdown": [
       "0.306005049"
      ],
      "text/plain": [
       "[1] 0.306005"
      ]
     },
     "metadata": {},
     "output_type": "display_data"
    }
   ],
   "source": [
    "sum(dbinom(2, 5, .51))"
   ]
  },
  {
   "cell_type": "code",
   "execution_count": 39,
   "metadata": {},
   "outputs": [
    {
     "data": {
      "text/html": [
       "0.761093298549346"
      ],
      "text/latex": [
       "0.761093298549346"
      ],
      "text/markdown": [
       "0.761093298549346"
      ],
      "text/plain": [
       "[1] 0.7610933"
      ]
     },
     "metadata": {},
     "output_type": "display_data"
    }
   ],
   "source": [
    "sum(dbinom(11:24, 24, .51))"
   ]
  },
  {
   "cell_type": "markdown",
   "metadata": {},
   "source": [
    "E[(2+3X)^2]\n",
    "E[4+12X+9X^2]"
   ]
  },
  {
   "cell_type": "code",
   "execution_count": 43,
   "metadata": {},
   "outputs": [
    {
     "data": {
      "text/html": [
       "118"
      ],
      "text/latex": [
       "118"
      ],
      "text/markdown": [
       "118"
      ],
      "text/plain": [
       "[1] 118"
      ]
     },
     "metadata": {},
     "output_type": "display_data"
    }
   ],
   "source": [
    "4+12*(-4)+(9*(2+16))"
   ]
  },
  {
   "cell_type": "code",
   "execution_count": 44,
   "metadata": {},
   "outputs": [
    {
     "data": {
      "text/html": [
       "10.086976"
      ],
      "text/latex": [
       "10.086976"
      ],
      "text/markdown": [
       "10.086976"
      ],
      "text/plain": [
       "[1] 10.08698"
      ]
     },
     "metadata": {},
     "output_type": "display_data"
    }
   ],
   "source": [
    "10.086976"
   ]
  },
  {
   "cell_type": "code",
   "execution_count": null,
   "metadata": {
    "collapsed": true
   },
   "outputs": [],
   "source": []
  }
 ],
 "metadata": {
  "kernelspec": {
   "display_name": "R",
   "language": "R",
   "name": "ir"
  },
  "language_info": {
   "codemirror_mode": "r",
   "file_extension": ".r",
   "mimetype": "text/x-r-source",
   "name": "R",
   "pygments_lexer": "r",
   "version": "3.3.2"
  }
 },
 "nbformat": 4,
 "nbformat_minor": 2
}
