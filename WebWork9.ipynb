{
 "cells": [
  {
   "cell_type": "code",
   "execution_count": 6,
   "metadata": {},
   "outputs": [
    {
     "data": {
      "text/html": [
       "0.451188363905974"
      ],
      "text/latex": [
       "0.451188363905974"
      ],
      "text/markdown": [
       "0.451188363905974"
      ],
      "text/plain": [
       "[1] 0.4511884"
      ]
     },
     "metadata": {},
     "output_type": "display_data"
    }
   ],
   "source": [
    "pexp(3, rate = .2)"
   ]
  },
  {
   "cell_type": "code",
   "execution_count": 11,
   "metadata": {},
   "outputs": [
    {
     "data": {
      "text/html": [
       "0.301194211912202"
      ],
      "text/latex": [
       "0.301194211912202"
      ],
      "text/markdown": [
       "0.301194211912202"
      ],
      "text/plain": [
       "[1] 0.3011942"
      ]
     },
     "metadata": {},
     "output_type": "display_data"
    }
   ],
   "source": [
    "pexp(6, rate = .2, lower.tail = F)"
   ]
  },
  {
   "cell_type": "code",
   "execution_count": 13,
   "metadata": {},
   "outputs": [
    {
     "data": {
      "text/html": [
       "0.548811636094026"
      ],
      "text/latex": [
       "0.548811636094026"
      ],
      "text/markdown": [
       "0.548811636094026"
      ],
      "text/plain": [
       "[1] 0.5488116"
      ]
     },
     "metadata": {},
     "output_type": "display_data"
    }
   ],
   "source": [
    "(1-pexp(6, rate = .2,))/(1-pexp(3, .2,))"
   ]
  },
  {
   "cell_type": "code",
   "execution_count": 17,
   "metadata": {},
   "outputs": [
    {
     "data": {
      "text/html": [
       "0.8099"
      ],
      "text/latex": [
       "0.8099"
      ],
      "text/markdown": [
       "0.8099"
      ],
      "text/plain": [
       "[1] 0.8099"
      ]
     },
     "metadata": {},
     "output_type": "display_data"
    }
   ],
   "source": [
    ".7887+.0212"
   ]
  },
  {
   "cell_type": "markdown",
   "metadata": {},
   "source": [
    "z = (x-mu)/sigma"
   ]
  },
  {
   "cell_type": "code",
   "execution_count": 19,
   "metadata": {},
   "outputs": [
    {
     "data": {
      "text/html": [
       "167.36"
      ],
      "text/latex": [
       "167.36"
      ],
      "text/markdown": [
       "167.36"
      ],
      "text/plain": [
       "[1] 167.36"
      ]
     },
     "metadata": {},
     "output_type": "display_data"
    }
   ],
   "source": [
    "mu <- 143\n",
    "sigma <- 29\n",
    "z <- .84\n",
    "z * sigma + mu"
   ]
  },
  {
   "cell_type": "code",
   "execution_count": 35,
   "metadata": {},
   "outputs": [
    {
     "data": {
      "text/html": [
       "0.46473857148101"
      ],
      "text/latex": [
       "0.46473857148101"
      ],
      "text/markdown": [
       "0.46473857148101"
      ],
      "text/plain": [
       "[1] 0.4647386"
      ]
     },
     "metadata": {},
     "output_type": "display_data"
    }
   ],
   "source": [
    "#lambda = 1/mu\n",
    "pexp(q = 5, rate = 1/8,lower.tail = T)"
   ]
  },
  {
   "cell_type": "code",
   "execution_count": 36,
   "metadata": {},
   "outputs": [
    {
     "data": {
      "text/html": [
       "0.917915001376101"
      ],
      "text/latex": [
       "0.917915001376101"
      ],
      "text/markdown": [
       "0.917915001376101"
      ],
      "text/plain": [
       "[1] 0.917915"
      ]
     },
     "metadata": {},
     "output_type": "display_data"
    }
   ],
   "source": [
    "pexp(q = 10, rate = 1/4, lower.tail = T)"
   ]
  },
  {
   "cell_type": "code",
   "execution_count": 47,
   "metadata": {},
   "outputs": [
    {
     "data": {
      "text/html": [
       "0.730959179795289"
      ],
      "text/latex": [
       "0.730959179795289"
      ],
      "text/markdown": [
       "0.730959179795289"
      ],
      "text/plain": [
       "[1] 0.7309592"
      ]
     },
     "metadata": {},
     "output_type": "display_data"
    }
   ],
   "source": [
    "sum(dnorm(x = 61:79, mean = 70, sd = 8.6))"
   ]
  },
  {
   "cell_type": "code",
   "execution_count": 52,
   "metadata": {},
   "outputs": [
    {
     "data": {
      "text/html": [
       "0.682689492137086"
      ],
      "text/latex": [
       "0.682689492137086"
      ],
      "text/markdown": [
       "0.682689492137086"
      ],
      "text/plain": [
       "[1] 0.6826895"
      ]
     },
     "metadata": {},
     "output_type": "display_data"
    }
   ],
   "source": [
    "pnorm(q = 78.6, mean = 70, sd = 8.6)-pnorm(q = 61.4, mean = 70, sd = 8.6)"
   ]
  },
  {
   "cell_type": "code",
   "execution_count": 55,
   "metadata": {},
   "outputs": [
    {
     "data": {
      "text/html": [
       "0.72582097295651"
      ],
      "text/latex": [
       "0.72582097295651"
      ],
      "text/markdown": [
       "0.72582097295651"
      ],
      "text/plain": [
       "[1] 0.725821"
      ]
     },
     "metadata": {},
     "output_type": "display_data"
    }
   ],
   "source": [
    "pnorm(q = 3.167, mean = 3.1, sd = .1)-pnorm(q = 2.9, mean = 3.1, sd = .1)"
   ]
  },
  {
   "cell_type": "code",
   "execution_count": 65,
   "metadata": {},
   "outputs": [
    {
     "data": {
      "text/html": [
       "7.61985302415984e-24"
      ],
      "text/latex": [
       "7.61985302415984e-24"
      ],
      "text/markdown": [
       "7.61985302415984e-24"
      ],
      "text/plain": [
       "[1] 7.619853e-24"
      ]
     },
     "metadata": {},
     "output_type": "display_data"
    }
   ],
   "source": [
    "pnorm(q = 6.2, mean = 6.24, sd = .14/35)"
   ]
  },
  {
   "cell_type": "code",
   "execution_count": 60,
   "metadata": {},
   "outputs": [
    {
     "data": {
      "text/html": [
       "0.0668072012688581"
      ],
      "text/latex": [
       "0.0668072012688581"
      ],
      "text/markdown": [
       "0.0668072012688581"
      ],
      "text/plain": [
       "[1] 0.0668072"
      ]
     },
     "metadata": {},
     "output_type": "display_data"
    }
   ],
   "source": [
    "pnorm(q = 17, mean = 14, sd = 2, lower.tail = F)"
   ]
  },
  {
   "cell_type": "code",
   "execution_count": 67,
   "metadata": {},
   "outputs": [
    {
     "data": {
      "text/html": [
       "0.004"
      ],
      "text/latex": [
       "0.004"
      ],
      "text/markdown": [
       "0.004"
      ],
      "text/plain": [
       "[1] 0.004"
      ]
     },
     "metadata": {},
     "output_type": "display_data"
    }
   ],
   "source": [
    ".14/35"
   ]
  },
  {
   "cell_type": "code",
   "execution_count": 68,
   "metadata": {},
   "outputs": [
    {
     "data": {
      "text/html": [
       "-10"
      ],
      "text/latex": [
       "-10"
      ],
      "text/markdown": [
       "-10"
      ],
      "text/plain": [
       "[1] -10"
      ]
     },
     "metadata": {},
     "output_type": "display_data"
    }
   ],
   "source": [
    "-.04/.004"
   ]
  },
  {
   "cell_type": "code",
   "execution_count": 70,
   "metadata": {},
   "outputs": [
    {
     "data": {
      "text/html": [
       "-1.69030850945703"
      ],
      "text/latex": [
       "-1.69030850945703"
      ],
      "text/markdown": [
       "-1.69030850945703"
      ],
      "text/plain": [
       "[1] -1.690309"
      ]
     },
     "metadata": {},
     "output_type": "display_data"
    }
   ],
   "source": [
    "-.04/(.14/sqrt(35))"
   ]
  },
  {
   "cell_type": "code",
   "execution_count": 71,
   "metadata": {},
   "outputs": [
    {
     "data": {
      "text/html": [
       "0.0956069309786494"
      ],
      "text/latex": [
       "0.0956069309786494"
      ],
      "text/markdown": [
       "0.0956069309786494"
      ],
      "text/plain": [
       "[1] 0.09560693"
      ]
     },
     "metadata": {},
     "output_type": "display_data"
    }
   ],
   "source": [
    "dnorm(-1.69030850945703)"
   ]
  },
  {
   "cell_type": "code",
   "execution_count": 74,
   "metadata": {
    "collapsed": true
   },
   "outputs": [],
   "source": [
    "mu <- 6.24\n",
    "sigma <- .14/sqrt(35)"
   ]
  },
  {
   "cell_type": "code",
   "execution_count": 77,
   "metadata": {},
   "outputs": [
    {
     "data": {
      "text/html": [
       "-1.69030850945703"
      ],
      "text/latex": [
       "-1.69030850945703"
      ],
      "text/markdown": [
       "-1.69030850945703"
      ],
      "text/plain": [
       "[1] -1.690309"
      ]
     },
     "metadata": {},
     "output_type": "display_data"
    }
   ],
   "source": [
    "(6.2-mu)/sigma"
   ]
  },
  {
   "cell_type": "code",
   "execution_count": 81,
   "metadata": {},
   "outputs": [
    {
     "data": {
      "text/html": [
       "29.329555"
      ],
      "text/latex": [
       "29.329555"
      ],
      "text/markdown": [
       "29.329555"
      ],
      "text/plain": [
       "[1] 29.32955"
      ]
     },
     "metadata": {},
     "output_type": "display_data"
    }
   ],
   "source": [
    "205*(.173)*(1-.173)"
   ]
  },
  {
   "cell_type": "code",
   "execution_count": 83,
   "metadata": {},
   "outputs": [
    {
     "data": {
      "text/html": [
       "0.0264181359298556"
      ],
      "text/latex": [
       "0.0264181359298556"
      ],
      "text/markdown": [
       "0.0264181359298556"
      ],
      "text/plain": [
       "[1] 0.02641814"
      ]
     },
     "metadata": {},
     "output_type": "display_data"
    }
   ],
   "source": [
    "sqrt(29.33)/205"
   ]
  },
  {
   "cell_type": "code",
   "execution_count": 85,
   "metadata": {},
   "outputs": [
    {
     "data": {
      "text/html": [
       "0.378250143068985"
      ],
      "text/latex": [
       "0.378250143068985"
      ],
      "text/markdown": [
       "0.378250143068985"
      ],
      "text/plain": [
       "[1] 0.3782501"
      ]
     },
     "metadata": {},
     "output_type": "display_data"
    }
   ],
   "source": [
    "sqrt(29.33)/sqrt(205)"
   ]
  },
  {
   "cell_type": "code",
   "execution_count": 102,
   "metadata": {},
   "outputs": [
    {
     "data": {
      "text/html": [
       "0.378250143068985"
      ],
      "text/latex": [
       "0.378250143068985"
      ],
      "text/markdown": [
       "0.378250143068985"
      ],
      "text/plain": [
       "[1] 0.3782501"
      ]
     },
     "metadata": {},
     "output_type": "display_data"
    }
   ],
   "source": [
    "(sqrt(29.33))/sqrt(205)"
   ]
  },
  {
   "cell_type": "code",
   "execution_count": 94,
   "metadata": {},
   "outputs": [
    {
     "data": {
      "text/html": [
       "0.316738139131503"
      ],
      "text/latex": [
       "0.316738139131503"
      ],
      "text/markdown": [
       "0.316738139131503"
      ],
      "text/plain": [
       "[1] 0.3167381"
      ]
     },
     "metadata": {},
     "output_type": "display_data"
    }
   ],
   "source": [
    "(40-35.465)/sqrt(205)"
   ]
  },
  {
   "cell_type": "code",
   "execution_count": 97,
   "metadata": {},
   "outputs": [
    {
     "data": {
      "text/html": [
       "0.837333825701624"
      ],
      "text/latex": [
       "0.837333825701624"
      ],
      "text/markdown": [
       "0.837333825701624"
      ],
      "text/plain": [
       "[1] 0.8373338"
      ]
     },
     "metadata": {},
     "output_type": "display_data"
    }
   ],
   "source": [
    "(40-35.465)/5.416"
   ]
  },
  {
   "cell_type": "code",
   "execution_count": 98,
   "metadata": {},
   "outputs": [
    {
     "data": {
      "text/html": [
       "1.73310225303293"
      ],
      "text/latex": [
       "1.73310225303293"
      ],
      "text/markdown": [
       "1.73310225303293"
      ],
      "text/plain": [
       "[1] 1.733102"
      ]
     },
     "metadata": {},
     "output_type": "display_data"
    }
   ],
   "source": [
    "1/.577"
   ]
  },
  {
   "cell_type": "code",
   "execution_count": 103,
   "metadata": {},
   "outputs": [
    {
     "data": {
      "text/html": [
       "11.9894204486075"
      ],
      "text/latex": [
       "11.9894204486075"
      ],
      "text/markdown": [
       "11.9894204486075"
      ],
      "text/plain": [
       "[1] 11.98942"
      ]
     },
     "metadata": {},
     "output_type": "display_data"
    }
   ],
   "source": [
    "(40-35.465)/0.378250143068985"
   ]
  },
  {
   "cell_type": "code",
   "execution_count": 105,
   "metadata": {},
   "outputs": [
    {
     "data": {
      "text/html": [
       "1.73205080756888"
      ],
      "text/latex": [
       "1.73205080756888"
      ],
      "text/markdown": [
       "1.73205080756888"
      ],
      "text/plain": [
       "[1] 1.732051"
      ]
     },
     "metadata": {},
     "output_type": "display_data"
    }
   ],
   "source": [
    "1/(2/sqrt(12))"
   ]
  },
  {
   "cell_type": "code",
   "execution_count": 106,
   "metadata": {},
   "outputs": [
    {
     "data": {
      "text/html": [
       "0.089332623487655"
      ],
      "text/latex": [
       "0.089332623487655"
      ],
      "text/markdown": [
       "0.089332623487655"
      ],
      "text/plain": [
       "[1] 0.08933262"
      ]
     },
     "metadata": {},
     "output_type": "display_data"
    }
   ],
   "source": [
    "dnorm(1.73)"
   ]
  },
  {
   "cell_type": "code",
   "execution_count": null,
   "metadata": {
    "collapsed": true
   },
   "outputs": [],
   "source": []
  }
 ],
 "metadata": {
  "kernelspec": {
   "display_name": "R",
   "language": "R",
   "name": "ir"
  },
  "language_info": {
   "codemirror_mode": "r",
   "file_extension": ".r",
   "mimetype": "text/x-r-source",
   "name": "R",
   "pygments_lexer": "r",
   "version": "3.3.2"
  }
 },
 "nbformat": 4,
 "nbformat_minor": 2
}
