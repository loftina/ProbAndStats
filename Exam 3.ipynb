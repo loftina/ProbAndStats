{
 "cells": [
  {
   "cell_type": "markdown",
   "metadata": {},
   "source": [
    "# Exam 3\n",
    "## 1.\n",
    "### (a)"
   ]
  },
  {
   "cell_type": "code",
   "execution_count": 1,
   "metadata": {},
   "outputs": [
    {
     "data": {
      "text/html": [
       "0.202328380963644"
      ],
      "text/latex": [
       "0.202328380963644"
      ],
      "text/markdown": [
       "0.202328380963644"
      ],
      "text/plain": [
       "[1] 0.2023284"
      ]
     },
     "metadata": {},
     "output_type": "display_data"
    }
   ],
   "source": [
    "pnorm(q = 8.5, mean = 8.3, sd = .24, lower.tail = F)"
   ]
  },
  {
   "cell_type": "markdown",
   "metadata": {},
   "source": [
    "### (b)"
   ]
  },
  {
   "cell_type": "code",
   "execution_count": 13,
   "metadata": {},
   "outputs": [
    {
     "data": {
      "text/html": [
       "0.585231346769548"
      ],
      "text/latex": [
       "0.585231346769548"
      ],
      "text/markdown": [
       "0.585231346769548"
      ],
      "text/plain": [
       "[1] 0.5852313"
      ]
     },
     "metadata": {},
     "output_type": "display_data"
    }
   ],
   "source": [
    "pnorm(q = 8.55, mean = 8.3, sd = .24) - pnorm(q = 8.15, mean = 8.3, sd = .24)"
   ]
  },
  {
   "cell_type": "markdown",
   "metadata": {},
   "source": [
    "### (c)"
   ]
  },
  {
   "cell_type": "code",
   "execution_count": 12,
   "metadata": {},
   "outputs": [
    {
     "data": {
      "text/html": [
       "8.69476487046835"
      ],
      "text/latex": [
       "8.69476487046835"
      ],
      "text/markdown": [
       "8.69476487046835"
      ],
      "text/plain": [
       "[1] 8.694765"
      ]
     },
     "metadata": {},
     "output_type": "display_data"
    }
   ],
   "source": [
    "qnorm(p = .95, mean = 8.3, sd = .24)"
   ]
  },
  {
   "cell_type": "markdown",
   "metadata": {},
   "source": [
    "## 2"
   ]
  },
  {
   "cell_type": "code",
   "execution_count": 15,
   "metadata": {
    "collapsed": true
   },
   "outputs": [],
   "source": [
    "n <- 16\n",
    "x_bar <- 23.2\n",
    "s <- 3.5"
   ]
  },
  {
   "cell_type": "markdown",
   "metadata": {},
   "source": [
    "### (a)"
   ]
  },
  {
   "cell_type": "code",
   "execution_count": 19,
   "metadata": {},
   "outputs": [
    {
     "name": "stdout",
     "output_type": "stream",
     "text": [
      "90% CI: ( 21.66608 , 24.73392 )"
     ]
    }
   ],
   "source": [
    "alpha <- .1\n",
    "error <- qt(p = 1-alpha/2, df = n-1)*s/sqrt(n)\n",
    "lower_bound <- x_bar - error\n",
    "upper_bound <- x_bar + error\n",
    "cat('90% CI: (',lower_bound,',',upper_bound,')')"
   ]
  },
  {
   "cell_type": "markdown",
   "metadata": {},
   "source": [
    "### (b)"
   ]
  },
  {
   "cell_type": "code",
   "execution_count": 21,
   "metadata": {},
   "outputs": [
    {
     "name": "stdout",
     "output_type": "stream",
     "text": [
      "95% CI: ( 21.33498 , 25.06502 )"
     ]
    }
   ],
   "source": [
    "alpha <- .05\n",
    "error <- qt(p = 1-alpha/2, df = n-1)*s/sqrt(n)\n",
    "lower_bound <- x_bar - error\n",
    "upper_bound <- x_bar + error\n",
    "cat('95% CI: (',lower_bound,',',upper_bound,')')"
   ]
  },
  {
   "cell_type": "markdown",
   "metadata": {},
   "source": [
    "## 4"
   ]
  },
  {
   "cell_type": "code",
   "execution_count": 23,
   "metadata": {
    "collapsed": true
   },
   "outputs": [],
   "source": [
    "lifespans = rexp(100, runif(1, .01, .02))"
   ]
  },
  {
   "cell_type": "markdown",
   "metadata": {},
   "source": [
    "### (a)"
   ]
  },
  {
   "cell_type": "code",
   "execution_count": 34,
   "metadata": {},
   "outputs": [
    {
     "name": "stdout",
     "output_type": "stream",
     "text": [
      "lifespans mean : 50.79297 \n",
      "lifespans var : 2924.849 \n",
      "lifespans sd : 54.08187"
     ]
    }
   ],
   "source": [
    "cat('lifespans mean :', mean(lifespans), '\\n')\n",
    "cat('lifespans var :', var(lifespans), '\\n')\n",
    "cat('lifespans sd :', sd(lifespans))"
   ]
  },
  {
   "cell_type": "markdown",
   "metadata": {},
   "source": [
    "### (b)"
   ]
  },
  {
   "cell_type": "code",
   "execution_count": 60,
   "metadata": {},
   "outputs": [
    {
     "name": "stdout",
     "output_type": "stream",
     "text": [
      "95% CI: ( 40.19312 , 61.39283 )"
     ]
    }
   ],
   "source": [
    "n <- 100\n",
    "x_bar <- mean(lifespans)\n",
    "s <- sd(lifespans)\n",
    "alpha <- .05\n",
    "error <- qnorm(p = 1-alpha/2)*s/sqrt(n)\n",
    "lower_bound <- x_bar - error\n",
    "upper_bound <- x_bar + error\n",
    "cat('95% CI: (',lower_bound,',',upper_bound,')')"
   ]
  },
  {
   "cell_type": "markdown",
   "metadata": {},
   "source": [
    "### (c viii)"
   ]
  },
  {
   "cell_type": "code",
   "execution_count": 62,
   "metadata": {},
   "outputs": [
    {
     "data": {
      "text/html": [
       "0.00158886964736487"
      ],
      "text/latex": [
       "0.00158886964736487"
      ],
      "text/markdown": [
       "0.00158886964736487"
      ],
      "text/plain": [
       "[1] 0.00158887"
      ]
     },
     "metadata": {},
     "output_type": "display_data"
    }
   ],
   "source": [
    "pnorm(q = -2.95, lower.tail = T)"
   ]
  },
  {
   "cell_type": "markdown",
   "metadata": {},
   "source": [
    "### CCs <- rnorm(30, runif(1, 1.85, 2.05), runif(1, .6, .8))"
   ]
  },
  {
   "cell_type": "markdown",
   "metadata": {},
   "source": [
    "### (a)"
   ]
  },
  {
   "cell_type": "code",
   "execution_count": 47,
   "metadata": {},
   "outputs": [
    {
     "name": "stdout",
     "output_type": "stream",
     "text": [
      "CCs mean: 2.047347 \n",
      "CCs var: 0.4734769 \n",
      "CCs sd: 0.6880966"
     ]
    }
   ],
   "source": [
    "cat('CCs mean:', mean(CCs), '\\n')\n",
    "cat('CCs var:', var(CCs), '\\n')\n",
    "cat('CCs sd:', sd(CCs))"
   ]
  },
  {
   "cell_type": "markdown",
   "metadata": {},
   "source": [
    "### (b)"
   ]
  },
  {
   "cell_type": "code",
   "execution_count": 51,
   "metadata": {},
   "outputs": [
    {
     "data": {
      "text/html": [
       "<ol class=list-inline>\n",
       "\t<li>1.72374856411143</li>\n",
       "\t<li>2.37094458936012</li>\n",
       "</ol>\n"
      ],
      "text/latex": [
       "\\begin{enumerate*}\n",
       "\\item 1.72374856411143\n",
       "\\item 2.37094458936012\n",
       "\\end{enumerate*}\n"
      ],
      "text/markdown": [
       "1. 1.72374856411143\n",
       "2. 2.37094458936012\n",
       "\n",
       "\n"
      ],
      "text/plain": [
       "[1] 1.723749 2.370945"
      ]
     },
     "metadata": {},
     "output_type": "display_data"
    }
   ],
   "source": [
    "alpha <- .01\n",
    "error <- qnorm(p = 1-alpha/2)*sd(CCs)/sqrt(30)\n",
    "ci <- c(mean(CCs) - error, mean(CCs) + error)\n",
    "ci"
   ]
  },
  {
   "cell_type": "markdown",
   "metadata": {},
   "source": [
    "### (c)"
   ]
  },
  {
   "cell_type": "code",
   "execution_count": 56,
   "metadata": {},
   "outputs": [
    {
     "name": "stdout",
     "output_type": "stream",
     "text": [
      "Test statistic: 0.3768772 \n",
      "Critical Value: 2.575829 \n",
      "P-Value: 0.3531324"
     ]
    }
   ],
   "source": [
    "z <- (mean(CCs)-2)/(sd(CCs)/sqrt(30))\n",
    "critical_value <- qnorm(0.005,lower.tail = F)\n",
    "p_value <- pnorm(z,lower.tail = F)\n",
    "cat('Test statistic:', z, '\\n')\n",
    "cat('Critical Value:', critical_value, '\\n')\n",
    "cat('P-Value:', p_value)"
   ]
  },
  {
   "cell_type": "markdown",
   "metadata": {},
   "source": [
    "p-value is greater than alpha, so we fail to reject the null hypothesis that the patient's true mean compound concentration is less than or equal to 2%."
   ]
  }
 ],
 "metadata": {
  "kernelspec": {
   "display_name": "R",
   "language": "R",
   "name": "ir"
  },
  "language_info": {
   "codemirror_mode": "r",
   "file_extension": ".r",
   "mimetype": "text/x-r-source",
   "name": "R",
   "pygments_lexer": "r",
   "version": "3.3.2"
  }
 },
 "nbformat": 4,
 "nbformat_minor": 2
}
