{
 "cells": [
  {
   "cell_type": "markdown",
   "metadata": {},
   "source": [
    "# 1"
   ]
  },
  {
   "cell_type": "markdown",
   "metadata": {},
   "source": [
    "## (A)"
   ]
  },
  {
   "cell_type": "code",
   "execution_count": 4,
   "metadata": {},
   "outputs": [
    {
     "data": {
      "text/html": [
       "0.12386304"
      ],
      "text/latex": [
       "0.12386304"
      ],
      "text/markdown": [
       "0.12386304"
      ],
      "text/plain": [
       "[1] 0.123863"
      ]
     },
     "metadata": {},
     "output_type": "display_data"
    }
   ],
   "source": [
    "dbinom(3, 8, .6)"
   ]
  },
  {
   "cell_type": "markdown",
   "metadata": {},
   "source": [
    "## (B)"
   ]
  },
  {
   "cell_type": "code",
   "execution_count": 24,
   "metadata": {},
   "outputs": [
    {
     "data": {
      "text/html": [
       "0.27869184"
      ],
      "text/latex": [
       "0.27869184"
      ],
      "text/markdown": [
       "0.27869184"
      ],
      "text/plain": [
       "[1] 0.2786918"
      ]
     },
     "metadata": {},
     "output_type": "display_data"
    }
   ],
   "source": [
    "dbinom(5, 8, .6)"
   ]
  },
  {
   "cell_type": "markdown",
   "metadata": {},
   "source": [
    "## (C)"
   ]
  },
  {
   "cell_type": "code",
   "execution_count": 8,
   "metadata": {},
   "outputs": [
    {
     "data": {
      "text/html": [
       "0.63479808"
      ],
      "text/latex": [
       "0.63479808"
      ],
      "text/markdown": [
       "0.63479808"
      ],
      "text/plain": [
       "[1] 0.6347981"
      ]
     },
     "metadata": {},
     "output_type": "display_data"
    }
   ],
   "source": [
    "sum(dbinom(3:5, 8, .6))"
   ]
  },
  {
   "cell_type": "markdown",
   "metadata": {},
   "source": [
    "## (D)"
   ]
  },
  {
   "cell_type": "code",
   "execution_count": 17,
   "metadata": {},
   "outputs": [
    {
     "data": {
      "text/html": [
       "0.659002251789"
      ],
      "text/latex": [
       "0.659002251789"
      ],
      "text/markdown": [
       "0.659002251789"
      ],
      "text/plain": [
       "[1] 0.6590023"
      ]
     },
     "metadata": {},
     "output_type": "display_data"
    },
    {
     "data": {
      "text/html": [
       "0.659002251789"
      ],
      "text/latex": [
       "0.659002251789"
      ],
      "text/markdown": [
       "0.659002251789"
      ],
      "text/plain": [
       "[1] 0.6590023"
      ]
     },
     "metadata": {},
     "output_type": "display_data"
    }
   ],
   "source": [
    "pbinom(1, 12, .1)\n",
    "sum(dbinom(0:1,12,.1))"
   ]
  },
  {
   "cell_type": "markdown",
   "metadata": {},
   "source": [
    "## (E)"
   ]
  },
  {
   "cell_type": "code",
   "execution_count": 22,
   "metadata": {},
   "outputs": [
    {
     "data": {
      "text/html": [
       "0.110328745923"
      ],
      "text/latex": [
       "0.110328745923"
      ],
      "text/markdown": [
       "0.110328745923"
      ],
      "text/plain": [
       "[1] 0.1103287"
      ]
     },
     "metadata": {},
     "output_type": "display_data"
    },
    {
     "data": {
      "text/html": [
       "0.110328745923"
      ],
      "text/latex": [
       "0.110328745923"
      ],
      "text/markdown": [
       "0.110328745923"
      ],
      "text/plain": [
       "[1] 0.1103287"
      ]
     },
     "metadata": {},
     "output_type": "display_data"
    }
   ],
   "source": [
    "pbinom(5, 12, .1) - pbinom(2, 12, .1)\n",
    "sum(dbinom(3:5, 12, .1))"
   ]
  },
  {
   "cell_type": "markdown",
   "metadata": {},
   "source": [
    "# 2\n",
    "## (A)"
   ]
  },
  {
   "cell_type": "code",
   "execution_count": 26,
   "metadata": {},
   "outputs": [
    {
     "data": {
      "text/html": [
       "0.354294"
      ],
      "text/latex": [
       "0.354294"
      ],
      "text/markdown": [
       "0.354294"
      ],
      "text/plain": [
       "[1] 0.354294"
      ]
     },
     "metadata": {},
     "output_type": "display_data"
    }
   ],
   "source": [
    "dbinom(1, 6, .1)"
   ]
  },
  {
   "cell_type": "markdown",
   "metadata": {},
   "source": [
    "## (B)"
   ]
  },
  {
   "cell_type": "code",
   "execution_count": 32,
   "metadata": {},
   "outputs": [
    {
     "data": {
      "text/html": [
       "0.114265"
      ],
      "text/latex": [
       "0.114265"
      ],
      "text/markdown": [
       "0.114265"
      ],
      "text/plain": [
       "[1] 0.114265"
      ]
     },
     "metadata": {},
     "output_type": "display_data"
    },
    {
     "data": {
      "text/html": [
       "0.114265"
      ],
      "text/latex": [
       "0.114265"
      ],
      "text/markdown": [
       "0.114265"
      ],
      "text/plain": [
       "[1] 0.114265"
      ]
     },
     "metadata": {},
     "output_type": "display_data"
    },
    {
     "data": {
      "text/html": [
       "0.114265"
      ],
      "text/latex": [
       "0.114265"
      ],
      "text/markdown": [
       "0.114265"
      ],
      "text/plain": [
       "[1] 0.114265"
      ]
     },
     "metadata": {},
     "output_type": "display_data"
    }
   ],
   "source": [
    "pbinom(6, 6, .1) - pbinom(1, 6, .1)\n",
    "pbinom(1, 6, .1, lower.tail = F)\n",
    "sum(dbinom(2:6, 6, .1))"
   ]
  },
  {
   "cell_type": "markdown",
   "metadata": {},
   "source": [
    "# 3\n",
    "## (A)"
   ]
  },
  {
   "cell_type": "code",
   "execution_count": 4,
   "metadata": {},
   "outputs": [
    {
     "ename": "ERROR",
     "evalue": "Error in eval(expr, envir, enclos): object 'e' not found\n",
     "output_type": "error",
     "traceback": [
      "Error in eval(expr, envir, enclos): object 'e' not found\nTraceback:\n"
     ]
    }
   ],
   "source": [
    "e^(-4/6)"
   ]
  },
  {
   "cell_type": "code",
   "execution_count": null,
   "metadata": {
    "collapsed": true
   },
   "outputs": [],
   "source": []
  }
 ],
 "metadata": {
  "kernelspec": {
   "display_name": "R",
   "language": "R",
   "name": "ir"
  },
  "language_info": {
   "codemirror_mode": "r",
   "file_extension": ".r",
   "mimetype": "text/x-r-source",
   "name": "R",
   "pygments_lexer": "r",
   "version": "3.3.2"
  }
 },
 "nbformat": 4,
 "nbformat_minor": 2
}
